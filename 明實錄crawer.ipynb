{
 "cells": [
  {
   "cell_type": "code",
   "execution_count": null,
   "metadata": {},
   "outputs": [],
   "source": [
    "from smm.crawer import MutiThreadProcessor\n",
    "processor = MutiThreadProcessor(\"origin_craw_data\")\n",
    "processor.muti_thread_crawling()\n",
    "processor.save_data()"
   ]
  }
 ],
 "metadata": {
  "kernelspec": {
   "display_name": "meditron",
   "language": "python",
   "name": "python3"
  },
  "language_info": {
   "codemirror_mode": {
    "name": "ipython",
    "version": 3
   },
   "file_extension": ".py",
   "mimetype": "text/x-python",
   "name": "python",
   "nbconvert_exporter": "python",
   "pygments_lexer": "ipython3",
   "version": "3.10.13"
  }
 },
 "nbformat": 4,
 "nbformat_minor": 2
}
