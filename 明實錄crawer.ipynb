{
 "cells": [
  {
   "cell_type": "code",
   "execution_count": 1,
   "metadata": {},
   "outputs": [
    {
     "name": "stderr",
     "output_type": "stream",
     "text": [
      "/usr/local/lib/python3.10/site-packages/tqdm/auto.py:21: TqdmWarning: IProgress not found. Please update jupyter and ipywidgets. See https://ipywidgets.readthedocs.io/en/stable/user_install.html\n",
      "  from .autonotebook import tqdm as notebook_tqdm\n"
     ]
    },
    {
     "name": "stdout",
     "output_type": "stream",
     "text": [
      "Home page url this time: https://hanchi.ihp.sinica.edu.tw/mqlc/hanjishilu?3:1859620907:10:/raid/ihp_ebook2/hanji/ttsweb.ini:::@SPAWN#top\n",
      "Now driver url location is at https://hanchi.ihp.sinica.edu.tw/mqlc/hanjishilu?3:1859620907:10:/raid/ihp_ebook2/hanji/ttsweb.ini:::@SPAWN#top\n",
      "Book tree graph loaded.\n",
      "Now getting all books tpyes:\n",
      "Book: 校印明實錄序, Url: https://hanchi.ihp.sinica.edu.tw/mqlc/hanjishilu?@3^1859620907^801^^^402110010003^%E6%A0%A1%E5%8D%B0%E6%98%8E%E5%AF%A6%E9%8C%84%E5%BA%8F(P.1)@@802879513\n",
      "Book: 　　　　太祖, Url: https://hanchi.ihp.sinica.edu.tw/mqlc/hanjishilu?@3^1859620907^801^^^402110010005^%E5%A4%AA%E7%A5%96(P.1)@@213941964\n",
      "Book: 　　　　太宗, Url: https://hanchi.ihp.sinica.edu.tw/mqlc/hanjishilu?@3^1859620907^801^^^402110010006^%E5%A4%AA%E5%AE%97(P.1)@@887514200\n",
      "Book: 　　　　仁宗, Url: https://hanchi.ihp.sinica.edu.tw/mqlc/hanjishilu?@3^1859620907^801^^^402110010007^%E4%BB%81%E5%AE%97(P.1)@@1593524371\n",
      "Book: 　　　　宣宗, Url: https://hanchi.ihp.sinica.edu.tw/mqlc/hanjishilu?@3^1859620907^801^^^402110010008^%E5%AE%A3%E5%AE%97(P.1)@@244476931\n",
      "Book: 　　　　英宗, Url: https://hanchi.ihp.sinica.edu.tw/mqlc/hanjishilu?@3^1859620907^801^^^402110010009^%E8%8B%B1%E5%AE%97(P.1)@@882225280\n",
      "Book: 　　　　憲宗, Url: https://hanchi.ihp.sinica.edu.tw/mqlc/hanjishilu?@3^1859620907^801^^^402110010010^%E6%86%B2%E5%AE%97(P.1)@@192107077\n",
      "Book: 　　　　孝宗, Url: https://hanchi.ihp.sinica.edu.tw/mqlc/hanjishilu?@3^1859620907^801^^^402110010011^%E5%AD%9D%E5%AE%97(P.1)@@1011938851\n",
      "Book: 　　　　武宗, Url: https://hanchi.ihp.sinica.edu.tw/mqlc/hanjishilu?@3^1859620907^801^^^402110010012^%E6%AD%A6%E5%AE%97(P.1)@@718949257\n",
      "Book: 　　　　世宗, Url: https://hanchi.ihp.sinica.edu.tw/mqlc/hanjishilu?@3^1859620907^801^^^402110010013^%E4%B8%96%E5%AE%97(P.1)@@164281413\n",
      "Book: 　　　　穆宗, Url: https://hanchi.ihp.sinica.edu.tw/mqlc/hanjishilu?@3^1859620907^801^^^402110010014^%E7%A9%86%E5%AE%97(P.1)@@782118996\n",
      "Book: 　　　　神宗, Url: https://hanchi.ihp.sinica.edu.tw/mqlc/hanjishilu?@3^1859620907^801^^^402110010015^%E7%A5%9E%E5%AE%97(P.1)@@330776916\n",
      "Book: 　　　　光宗, Url: https://hanchi.ihp.sinica.edu.tw/mqlc/hanjishilu?@3^1859620907^801^^^402110010016^%E5%85%89%E5%AE%97(P.1)@@1613424512\n",
      "Book: 　　　　熹宗, Url: https://hanchi.ihp.sinica.edu.tw/mqlc/hanjishilu?@3^1859620907^801^^^402110010017^%E7%86%B9%E5%AE%97(P.1)@@1139227782\n",
      "Book: 　　　　附錄, Url: https://hanchi.ihp.sinica.edu.tw/mqlc/hanjishilu?@3^1859620907^801^^^402110010018^%E9%99%84%E9%8C%84(P.1)@@1286674463\n",
      "Book: 　　　校勘記, Url: https://hanchi.ihp.sinica.edu.tw/mqlc/hanjishilu?@3^1859620907^801^^^402110010019^%E6%A0%A1%E5%8B%98%E8%A8%98(P.1)@@1789468624\n"
     ]
    },
    {
     "name": "stderr",
     "output_type": "stream",
     "text": [
      "校印明實錄序: 100%|██████████| 2/2 [00:10<00:00,  5.02s/it]\n",
      "太祖:   0%|          | 0/264 [00:00<?, ?it/s]\n",
      "\u001b[A\n",
      "\n",
      "\u001b[A\u001b[A"
     ]
    },
    {
     "ename": "KeyboardInterrupt",
     "evalue": "",
     "output_type": "error",
     "traceback": [
      "\u001b[0;31m---------------------------------------------------------------------------\u001b[0m",
      "\u001b[0;31mKeyboardInterrupt\u001b[0m                         Traceback (most recent call last)",
      "Cell \u001b[0;32mIn[1], line 3\u001b[0m\n\u001b[1;32m      1\u001b[0m \u001b[38;5;28;01mfrom\u001b[39;00m \u001b[38;5;21;01msmm\u001b[39;00m\u001b[38;5;21;01m.\u001b[39;00m\u001b[38;5;21;01mcrawer\u001b[39;00m \u001b[38;5;28;01mimport\u001b[39;00m MultiThreadProcessor\n\u001b[1;32m      2\u001b[0m processor \u001b[38;5;241m=\u001b[39m MultiThreadProcessor(\u001b[38;5;124m\"\u001b[39m\u001b[38;5;124morigin_craw_data\u001b[39m\u001b[38;5;124m\"\u001b[39m)\n\u001b[0;32m----> 3\u001b[0m \u001b[43mprocessor\u001b[49m\u001b[38;5;241;43m.\u001b[39;49m\u001b[43mmulti_thread_crawling\u001b[49m\u001b[43m(\u001b[49m\u001b[43m)\u001b[49m\n",
      "File \u001b[0;32m~/Desktop/SMM/smm/crawer.py:163\u001b[0m, in \u001b[0;36mMultiThreadProcessor.multi_thread_crawling\u001b[0;34m(self)\u001b[0m\n\u001b[1;32m    161\u001b[0m \u001b[38;5;28;01mfor\u001b[39;00m key, value \u001b[38;5;129;01min\u001b[39;00m \u001b[38;5;28mself\u001b[39m\u001b[38;5;241m.\u001b[39mobject_url_dict\u001b[38;5;241m.\u001b[39mitems():\n\u001b[1;32m    162\u001b[0m     \u001b[38;5;28mprint\u001b[39m(\u001b[38;5;124mf\u001b[39m\u001b[38;5;124m\"\u001b[39m\u001b[38;5;124mBook: \u001b[39m\u001b[38;5;132;01m{\u001b[39;00m\u001b[38;5;124m'\u001b[39m\u001b[38;5;124m　\u001b[39m\u001b[38;5;124m'\u001b[39m\u001b[38;5;250m \u001b[39m\u001b[38;5;241m*\u001b[39m\u001b[38;5;250m \u001b[39m(\u001b[38;5;241m6\u001b[39m\u001b[38;5;250m \u001b[39m\u001b[38;5;241m-\u001b[39m\u001b[38;5;250m \u001b[39m\u001b[38;5;28mlen\u001b[39m(key))\u001b[38;5;132;01m}\u001b[39;00m\u001b[38;5;132;01m{\u001b[39;00mkey\u001b[38;5;132;01m}\u001b[39;00m\u001b[38;5;124m, Url: \u001b[39m\u001b[38;5;132;01m{\u001b[39;00mvalue[\u001b[38;5;124m'\u001b[39m\u001b[38;5;124mfirst_page_url\u001b[39m\u001b[38;5;124m'\u001b[39m]\u001b[38;5;132;01m}\u001b[39;00m\u001b[38;5;124m\"\u001b[39m)\n\u001b[0;32m--> 163\u001b[0m \u001b[38;5;28;01mwith\u001b[39;00m ThreadPoolExecutor(max_workers\u001b[38;5;241m=\u001b[39m\u001b[38;5;241m4\u001b[39m) \u001b[38;5;28;01mas\u001b[39;00m executor:\n\u001b[1;32m    164\u001b[0m     \u001b[38;5;66;03m# Create a list of arguments for crawl_single_type\u001b[39;00m\n\u001b[1;32m    165\u001b[0m     type_names, type_infos \u001b[38;5;241m=\u001b[39m [], []\n\u001b[1;32m    166\u001b[0m     \u001b[38;5;28;01mfor\u001b[39;00m type_name, type_info \u001b[38;5;129;01min\u001b[39;00m \u001b[38;5;28mself\u001b[39m\u001b[38;5;241m.\u001b[39mobject_url_dict\u001b[38;5;241m.\u001b[39mitems():\n",
      "File \u001b[0;32m/usr/local/Cellar/python@3.10/3.10.14/Frameworks/Python.framework/Versions/3.10/lib/python3.10/concurrent/futures/_base.py:649\u001b[0m, in \u001b[0;36mExecutor.__exit__\u001b[0;34m(self, exc_type, exc_val, exc_tb)\u001b[0m\n\u001b[1;32m    648\u001b[0m \u001b[38;5;28;01mdef\u001b[39;00m \u001b[38;5;21m__exit__\u001b[39m(\u001b[38;5;28mself\u001b[39m, exc_type, exc_val, exc_tb):\n\u001b[0;32m--> 649\u001b[0m     \u001b[38;5;28;43mself\u001b[39;49m\u001b[38;5;241;43m.\u001b[39;49m\u001b[43mshutdown\u001b[49m\u001b[43m(\u001b[49m\u001b[43mwait\u001b[49m\u001b[38;5;241;43m=\u001b[39;49m\u001b[38;5;28;43;01mTrue\u001b[39;49;00m\u001b[43m)\u001b[49m\n\u001b[1;32m    650\u001b[0m     \u001b[38;5;28;01mreturn\u001b[39;00m \u001b[38;5;28;01mFalse\u001b[39;00m\n",
      "File \u001b[0;32m/usr/local/Cellar/python@3.10/3.10.14/Frameworks/Python.framework/Versions/3.10/lib/python3.10/concurrent/futures/thread.py:235\u001b[0m, in \u001b[0;36mThreadPoolExecutor.shutdown\u001b[0;34m(self, wait, cancel_futures)\u001b[0m\n\u001b[1;32m    233\u001b[0m \u001b[38;5;28;01mif\u001b[39;00m wait:\n\u001b[1;32m    234\u001b[0m     \u001b[38;5;28;01mfor\u001b[39;00m t \u001b[38;5;129;01min\u001b[39;00m \u001b[38;5;28mself\u001b[39m\u001b[38;5;241m.\u001b[39m_threads:\n\u001b[0;32m--> 235\u001b[0m         \u001b[43mt\u001b[49m\u001b[38;5;241;43m.\u001b[39;49m\u001b[43mjoin\u001b[49m\u001b[43m(\u001b[49m\u001b[43m)\u001b[49m\n",
      "File \u001b[0;32m/usr/local/Cellar/python@3.10/3.10.14/Frameworks/Python.framework/Versions/3.10/lib/python3.10/threading.py:1096\u001b[0m, in \u001b[0;36mThread.join\u001b[0;34m(self, timeout)\u001b[0m\n\u001b[1;32m   1093\u001b[0m     \u001b[38;5;28;01mraise\u001b[39;00m \u001b[38;5;167;01mRuntimeError\u001b[39;00m(\u001b[38;5;124m\"\u001b[39m\u001b[38;5;124mcannot join current thread\u001b[39m\u001b[38;5;124m\"\u001b[39m)\n\u001b[1;32m   1095\u001b[0m \u001b[38;5;28;01mif\u001b[39;00m timeout \u001b[38;5;129;01mis\u001b[39;00m \u001b[38;5;28;01mNone\u001b[39;00m:\n\u001b[0;32m-> 1096\u001b[0m     \u001b[38;5;28;43mself\u001b[39;49m\u001b[38;5;241;43m.\u001b[39;49m\u001b[43m_wait_for_tstate_lock\u001b[49m\u001b[43m(\u001b[49m\u001b[43m)\u001b[49m\n\u001b[1;32m   1097\u001b[0m \u001b[38;5;28;01melse\u001b[39;00m:\n\u001b[1;32m   1098\u001b[0m     \u001b[38;5;66;03m# the behavior of a negative timeout isn't documented, but\u001b[39;00m\n\u001b[1;32m   1099\u001b[0m     \u001b[38;5;66;03m# historically .join(timeout=x) for x<0 has acted as if timeout=0\u001b[39;00m\n\u001b[1;32m   1100\u001b[0m     \u001b[38;5;28mself\u001b[39m\u001b[38;5;241m.\u001b[39m_wait_for_tstate_lock(timeout\u001b[38;5;241m=\u001b[39m\u001b[38;5;28mmax\u001b[39m(timeout, \u001b[38;5;241m0\u001b[39m))\n",
      "File \u001b[0;32m/usr/local/Cellar/python@3.10/3.10.14/Frameworks/Python.framework/Versions/3.10/lib/python3.10/threading.py:1116\u001b[0m, in \u001b[0;36mThread._wait_for_tstate_lock\u001b[0;34m(self, block, timeout)\u001b[0m\n\u001b[1;32m   1113\u001b[0m     \u001b[38;5;28;01mreturn\u001b[39;00m\n\u001b[1;32m   1115\u001b[0m \u001b[38;5;28;01mtry\u001b[39;00m:\n\u001b[0;32m-> 1116\u001b[0m     \u001b[38;5;28;01mif\u001b[39;00m \u001b[43mlock\u001b[49m\u001b[38;5;241;43m.\u001b[39;49m\u001b[43macquire\u001b[49m\u001b[43m(\u001b[49m\u001b[43mblock\u001b[49m\u001b[43m,\u001b[49m\u001b[43m \u001b[49m\u001b[43mtimeout\u001b[49m\u001b[43m)\u001b[49m:\n\u001b[1;32m   1117\u001b[0m         lock\u001b[38;5;241m.\u001b[39mrelease()\n\u001b[1;32m   1118\u001b[0m         \u001b[38;5;28mself\u001b[39m\u001b[38;5;241m.\u001b[39m_stop()\n",
      "\u001b[0;31mKeyboardInterrupt\u001b[0m: "
     ]
    }
   ],
   "source": [
    "from smm.crawer import MultiThreadProcessor\n",
    "processor = MultiThreadProcessor(\"origin_craw_data\")\n",
    "processor.multi_thread_crawling()"
   ]
  }
 ],
 "metadata": {
  "kernelspec": {
   "display_name": "meditron",
   "language": "python",
   "name": "python3"
  },
  "language_info": {
   "codemirror_mode": {
    "name": "ipython",
    "version": 3
   },
   "file_extension": ".py",
   "mimetype": "text/x-python",
   "name": "python",
   "nbconvert_exporter": "python",
   "pygments_lexer": "ipython3",
   "version": "3.10.14"
  }
 },
 "nbformat": 4,
 "nbformat_minor": 2
}
