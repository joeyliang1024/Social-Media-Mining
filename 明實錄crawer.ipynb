{
 "cells": [
  {
   "cell_type": "code",
   "execution_count": 1,
   "metadata": {},
   "outputs": [
    {
     "name": "stdout",
     "output_type": "stream",
     "text": [
      "Home page url this time: https://hanchi.ihp.sinica.edu.tw/mqlc/hanjishilu?11:15815453:10:/raid/ihp_ebook2/hanji/ttsweb.ini:::@SPAWN#top\n",
      "Now driver url location is at https://hanchi.ihp.sinica.edu.tw/mqlc/hanjishilu?11:15815453:10:/raid/ihp_ebook2/hanji/ttsweb.ini:::@SPAWN#top\n",
      "Book tree graph loaded.\n",
      "Now getting all books tpyes:\n",
      "Book: 校印明實錄序, Url: https://hanchi.ihp.sinica.edu.tw/mqlc/hanjishilu?@11^15815453^801^^^402110010003^%E6%A0%A1%E5%8D%B0%E6%98%8E%E5%AF%A6%E9%8C%84%E5%BA%8F(P.1)@@1727606820\n",
      "Book: 　　　　太祖, Url: https://hanchi.ihp.sinica.edu.tw/mqlc/hanjishilu?@11^15815453^801^^^402110010005^%E5%A4%AA%E7%A5%96(P.1)@@222122894\n",
      "Book: 　　　　太宗, Url: https://hanchi.ihp.sinica.edu.tw/mqlc/hanjishilu?@11^15815453^801^^^402110010006^%E5%A4%AA%E5%AE%97(P.1)@@2131079518\n",
      "Book: 　　　　仁宗, Url: https://hanchi.ihp.sinica.edu.tw/mqlc/hanjishilu?@11^15815453^801^^^402110010007^%E4%BB%81%E5%AE%97(P.1)@@2002694867\n",
      "Book: 　　　　宣宗, Url: https://hanchi.ihp.sinica.edu.tw/mqlc/hanjishilu?@11^15815453^801^^^402110010008^%E5%AE%A3%E5%AE%97(P.1)@@487817689\n",
      "Book: 　　　　英宗, Url: https://hanchi.ihp.sinica.edu.tw/mqlc/hanjishilu?@11^15815453^801^^^402110010009^%E8%8B%B1%E5%AE%97(P.1)@@1044900183\n",
      "Book: 　　　　憲宗, Url: https://hanchi.ihp.sinica.edu.tw/mqlc/hanjishilu?@11^15815453^801^^^402110010010^%E6%86%B2%E5%AE%97(P.1)@@1044591562\n",
      "Book: 　　　　孝宗, Url: https://hanchi.ihp.sinica.edu.tw/mqlc/hanjishilu?@11^15815453^801^^^402110010011^%E5%AD%9D%E5%AE%97(P.1)@@720213515\n",
      "Book: 　　　　武宗, Url: https://hanchi.ihp.sinica.edu.tw/mqlc/hanjishilu?@11^15815453^801^^^402110010012^%E6%AD%A6%E5%AE%97(P.1)@@431891941\n",
      "Book: 　　　　世宗, Url: https://hanchi.ihp.sinica.edu.tw/mqlc/hanjishilu?@11^15815453^801^^^402110010013^%E4%B8%96%E5%AE%97(P.1)@@962935154\n",
      "Book: 　　　　穆宗, Url: https://hanchi.ihp.sinica.edu.tw/mqlc/hanjishilu?@11^15815453^801^^^402110010014^%E7%A9%86%E5%AE%97(P.1)@@2025177481\n",
      "Book: 　　　　神宗, Url: https://hanchi.ihp.sinica.edu.tw/mqlc/hanjishilu?@11^15815453^801^^^402110010015^%E7%A5%9E%E5%AE%97(P.1)@@758284686\n",
      "Book: 　　　　光宗, Url: https://hanchi.ihp.sinica.edu.tw/mqlc/hanjishilu?@11^15815453^801^^^402110010016^%E5%85%89%E5%AE%97(P.1)@@392844894\n",
      "Book: 　　　　熹宗, Url: https://hanchi.ihp.sinica.edu.tw/mqlc/hanjishilu?@11^15815453^801^^^402110010017^%E7%86%B9%E5%AE%97(P.1)@@663599725\n",
      "Book: 　　　　附錄, Url: https://hanchi.ihp.sinica.edu.tw/mqlc/hanjishilu?@11^15815453^801^^^402110010018^%E9%99%84%E9%8C%84(P.1)@@1969238457\n",
      "Book: 　　　校勘記, Url: https://hanchi.ihp.sinica.edu.tw/mqlc/hanjishilu?@11^15815453^801^^^402110010019^%E6%A0%A1%E5%8B%98%E8%A8%98(P.1)@@554735394\n"
     ]
    },
    {
     "data": {
      "application/vnd.jupyter.widget-view+json": {
       "model_id": "fd10807b9c6b420d888bcf9ee7a5af79",
       "version_major": 2,
       "version_minor": 0
      },
      "text/plain": [
       "校印明實錄序:   0%|          | 0/2 [00:00<?, ?it/s]"
      ]
     },
     "metadata": {},
     "output_type": "display_data"
    },
    {
     "data": {
      "application/vnd.jupyter.widget-view+json": {
       "model_id": "9b28776cf87541a3a2cc1de721b3363c",
       "version_major": 2,
       "version_minor": 0
      },
      "text/plain": [
       "校勘記:   0%|          | 0/14 [00:00<?, ?it/s]"
      ]
     },
     "metadata": {},
     "output_type": "display_data"
    },
    {
     "data": {
      "application/vnd.jupyter.widget-view+json": {
       "model_id": "45bc8cc213d14bf8af2da2fbd7ed5bec",
       "version_major": 2,
       "version_minor": 0
      },
      "text/plain": [
       "光宗:   0%|          | 0/12 [00:00<?, ?it/s]"
      ]
     },
     "metadata": {},
     "output_type": "display_data"
    },
    {
     "data": {
      "application/vnd.jupyter.widget-view+json": {
       "model_id": "b61c1130498c4887bd643cd055842488",
       "version_major": 2,
       "version_minor": 0
      },
      "text/plain": [
       "附錄:   0%|          | 0/19 [00:00<?, ?it/s]"
      ]
     },
     "metadata": {},
     "output_type": "display_data"
    },
    {
     "data": {
      "application/vnd.jupyter.widget-view+json": {
       "model_id": "083ff3a88c544cd8903a19379d870998",
       "version_major": 2,
       "version_minor": 0
      },
      "text/plain": [
       "仁宗:   0%|          | 0/23 [00:00<?, ?it/s]"
      ]
     },
     "metadata": {},
     "output_type": "display_data"
    },
    {
     "data": {
      "application/vnd.jupyter.widget-view+json": {
       "model_id": "09295bc4bbbc4fad9bb07d516bfd222f",
       "version_major": 2,
       "version_minor": 0
      },
      "text/plain": [
       "穆宗:   0%|          | 0/76 [00:00<?, ?it/s]"
      ]
     },
     "metadata": {},
     "output_type": "display_data"
    },
    {
     "data": {
      "application/vnd.jupyter.widget-view+json": {
       "model_id": "6457e08149664023aada928d17017570",
       "version_major": 2,
       "version_minor": 0
      },
      "text/plain": [
       "熹宗:   0%|          | 0/89 [00:00<?, ?it/s]"
      ]
     },
     "metadata": {},
     "output_type": "display_data"
    },
    {
     "data": {
      "application/vnd.jupyter.widget-view+json": {
       "model_id": "22167b61bc7348aebdb14657941f669b",
       "version_major": 2,
       "version_minor": 0
      },
      "text/plain": [
       "宣宗:   0%|          | 0/121 [00:00<?, ?it/s]"
      ]
     },
     "metadata": {},
     "output_type": "display_data"
    },
    {
     "data": {
      "application/vnd.jupyter.widget-view+json": {
       "model_id": "113cc438d5df4d03bab85f3140722522",
       "version_major": 2,
       "version_minor": 0
      },
      "text/plain": [
       "武宗:   0%|          | 0/203 [00:00<?, ?it/s]"
      ]
     },
     "metadata": {},
     "output_type": "display_data"
    },
    {
     "data": {
      "application/vnd.jupyter.widget-view+json": {
       "model_id": "f8ac790fabfc4341afd04618588ea409",
       "version_major": 2,
       "version_minor": 0
      },
      "text/plain": [
       "孝宗:   0%|          | 0/230 [00:00<?, ?it/s]"
      ]
     },
     "metadata": {},
     "output_type": "display_data"
    },
    {
     "data": {
      "application/vnd.jupyter.widget-view+json": {
       "model_id": "d33d37b716a3449ebf2814b6727eda8d",
       "version_major": 2,
       "version_minor": 0
      },
      "text/plain": [
       "太祖:   0%|          | 0/264 [00:00<?, ?it/s]"
      ]
     },
     "metadata": {},
     "output_type": "display_data"
    },
    {
     "data": {
      "application/vnd.jupyter.widget-view+json": {
       "model_id": "8090cdfaa74744be993bbccf6d95fe75",
       "version_major": 2,
       "version_minor": 0
      },
      "text/plain": [
       "太宗:   0%|          | 0/286 [00:00<?, ?it/s]"
      ]
     },
     "metadata": {},
     "output_type": "display_data"
    },
    {
     "data": {
      "application/vnd.jupyter.widget-view+json": {
       "model_id": "0148c4894e8640279d7f454a20d63983",
       "version_major": 2,
       "version_minor": 0
      },
      "text/plain": [
       "憲宗:   0%|          | 0/299 [00:00<?, ?it/s]"
      ]
     },
     "metadata": {},
     "output_type": "display_data"
    },
    {
     "data": {
      "application/vnd.jupyter.widget-view+json": {
       "model_id": "7b5bbf4423ec4905b01cc2c3d45856e2",
       "version_major": 2,
       "version_minor": 0
      },
      "text/plain": [
       "英宗:   0%|          | 0/367 [00:00<?, ?it/s]"
      ]
     },
     "metadata": {},
     "output_type": "display_data"
    },
    {
     "data": {
      "application/vnd.jupyter.widget-view+json": {
       "model_id": "6847b5b7c86e49f99e58c16a1399309e",
       "version_major": 2,
       "version_minor": 0
      },
      "text/plain": [
       "世宗:   0%|          | 0/574 [00:00<?, ?it/s]"
      ]
     },
     "metadata": {},
     "output_type": "display_data"
    },
    {
     "data": {
      "application/vnd.jupyter.widget-view+json": {
       "model_id": "c2f6f09f21874adbb06d1b82dddd8cc7",
       "version_major": 2,
       "version_minor": 0
      },
      "text/plain": [
       "神宗:   0%|          | 0/599 [00:00<?, ?it/s]"
      ]
     },
     "metadata": {},
     "output_type": "display_data"
    }
   ],
   "source": [
    "from smm.crawer import MutiThreadProcessor\n",
    "processor = MutiThreadProcessor(\"origin_craw_data\")\n",
    "processor.muti_thread_crawling()"
   ]
  }
 ],
 "metadata": {
  "kernelspec": {
   "display_name": "meditron",
   "language": "python",
   "name": "python3"
  },
  "language_info": {
   "codemirror_mode": {
    "name": "ipython",
    "version": 3
   },
   "file_extension": ".py",
   "mimetype": "text/x-python",
   "name": "python",
   "nbconvert_exporter": "python",
   "pygments_lexer": "ipython3",
   "version": "3.10.14"
  }
 },
 "nbformat": 4,
 "nbformat_minor": 2
}
