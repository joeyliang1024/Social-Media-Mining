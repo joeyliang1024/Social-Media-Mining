{
 "cells": [
  {
   "cell_type": "code",
   "execution_count": 1,
   "metadata": {},
   "outputs": [
    {
     "name": "stderr",
     "output_type": "stream",
     "text": [
      "Crawing total book: 100%|██████████| 5/5 [00:06<00:00,  1.39s/it, Found 2 elements for home page: https://ctext.org/searchbooks.pl?if=gb&searchu=%E6%98%8E%E5%AF%A6%E9%8C%84] \n"
     ]
    },
    {
     "name": "stdout",
     "output_type": "stream",
     "text": [
      "Data saved to origin_craw_data\\home_page_book.json\n",
      "Number of data entries in JSON file 'origin_craw_data\\home_page_book.json':  82\n"
     ]
    },
    {
     "name": "stderr",
     "output_type": "stream",
     "text": [
      "Crawing book pages:  71%|███████   | 58/82 [10:53<04:30, 11.27s/it, Number of data entries in book '明實錄：明太祖寶訓': 6]       "
     ]
    },
    {
     "name": "stdout",
     "output_type": "stream",
     "text": [
      "Error: HTTPSConnectionPool(host='ctext.org', port=443): Max retries exceeded with url: /library.pl?if=gb&file=191135&page=4 (Caused by ConnectTimeoutError(<urllib3.connection.HTTPSConnection object at 0x0000016C4CBB8B50>, 'Connection to ctext.org timed out. (connect timeout=None)'))\n"
     ]
    },
    {
     "name": "stderr",
     "output_type": "stream",
     "text": [
      "\n"
     ]
    },
    {
     "ename": "AttributeError",
     "evalue": "'NoneType' object has no attribute 'find'",
     "output_type": "error",
     "traceback": [
      "\u001b[1;31m---------------------------------------------------------------------------\u001b[0m",
      "\u001b[1;31mAttributeError\u001b[0m                            Traceback (most recent call last)",
      "Cell \u001b[1;32mIn[1], line 4\u001b[0m\n\u001b[0;32m      2\u001b[0m \u001b[38;5;28;01mfrom\u001b[39;00m \u001b[38;5;21;01msmm\u001b[39;00m\u001b[38;5;21;01m.\u001b[39;00m\u001b[38;5;21;01mutils\u001b[39;00m\u001b[38;5;21;01m.\u001b[39;00m\u001b[38;5;21;01mconstant\u001b[39;00m \u001b[38;5;28;01mimport\u001b[39;00m HOME_PAGE_BOOK_PTH\n\u001b[0;32m      3\u001b[0m home_page_process()\n\u001b[1;32m----> 4\u001b[0m \u001b[43mbook_page_process\u001b[49m\u001b[43m(\u001b[49m\u001b[43mHOME_PAGE_BOOK_PTH\u001b[49m\u001b[43m)\u001b[49m\n",
      "File \u001b[1;32mc:\\Users\\User\\SMM\\smm\\workflow.py:54\u001b[0m, in \u001b[0;36mbook_page_process\u001b[1;34m(book_info_json, print_details)\u001b[0m\n\u001b[0;32m     52\u001b[0m \u001b[38;5;28;01mwhile\u001b[39;00m \u001b[38;5;28;01mTrue\u001b[39;00m:\n\u001b[0;32m     53\u001b[0m     soup1 \u001b[38;5;241m=\u001b[39m load_html_to_soup(\u001b[38;5;124m\"\u001b[39m\u001b[38;5;124mhttps://ctext.org/\u001b[39m\u001b[38;5;124m\"\u001b[39m \u001b[38;5;241m+\u001b[39m page\u001b[38;5;241m.\u001b[39mget(\u001b[38;5;124m\"\u001b[39m\u001b[38;5;124mhref\u001b[39m\u001b[38;5;124m\"\u001b[39m)[:\u001b[38;5;241m-\u001b[39m\u001b[38;5;241m1\u001b[39m] \u001b[38;5;241m+\u001b[39m \u001b[38;5;28mstr\u001b[39m(str_number))\n\u001b[1;32m---> 54\u001b[0m     element \u001b[38;5;241m=\u001b[39m \u001b[43msoup1\u001b[49m\u001b[38;5;241;43m.\u001b[39;49m\u001b[43mfind\u001b[49m(\u001b[38;5;124m'\u001b[39m\u001b[38;5;124ma\u001b[39m\u001b[38;5;124m'\u001b[39m, string\u001b[38;5;241m=\u001b[39m\u001b[38;5;124m'\u001b[39m\u001b[38;5;124m文字版\u001b[39m\u001b[38;5;124m'\u001b[39m)\n\u001b[0;32m     55\u001b[0m     \u001b[38;5;28;01mif\u001b[39;00m element:\n\u001b[0;32m     56\u001b[0m         pages_dict[page\u001b[38;5;241m.\u001b[39mtext\u001b[38;5;241m.\u001b[39mstrip()] \u001b[38;5;241m=\u001b[39m \u001b[38;5;124m\"\u001b[39m\u001b[38;5;124mhttps://ctext.org/\u001b[39m\u001b[38;5;124m\"\u001b[39m \u001b[38;5;241m+\u001b[39m element\u001b[38;5;241m.\u001b[39mget(\u001b[38;5;124m\"\u001b[39m\u001b[38;5;124mhref\u001b[39m\u001b[38;5;124m\"\u001b[39m)\n",
      "\u001b[1;31mAttributeError\u001b[0m: 'NoneType' object has no attribute 'find'"
     ]
    }
   ],
   "source": [
    "from smm.workflow import home_page_process, book_page_process\n",
    "from smm.utils.constant import HOME_PAGE_BOOK_PTH\n",
    "home_page_process()\n",
    "book_page_process(HOME_PAGE_BOOK_PTH)"
   ]
  }
 ],
 "metadata": {
  "kernelspec": {
   "display_name": "Python 3",
   "language": "python",
   "name": "python3"
  },
  "language_info": {
   "codemirror_mode": {
    "name": "ipython",
    "version": 3
   },
   "file_extension": ".py",
   "mimetype": "text/x-python",
   "name": "python",
   "nbconvert_exporter": "python",
   "pygments_lexer": "ipython3",
   "version": "3.11.8"
  }
 },
 "nbformat": 4,
 "nbformat_minor": 2
}
